{
  "nbformat": 4,
  "nbformat_minor": 0,
  "metadata": {
    "colab": {
      "name": "Instructor Assistant - Data Science.ipynb",
      "provenance": [],
      "include_colab_link": true
    },
    "kernelspec": {
      "name": "python3",
      "display_name": "Python 3"
    },
    "language_info": {
      "name": "python"
    }
  },
  "cells": [
    {
      "cell_type": "markdown",
      "metadata": {
        "id": "view-in-github",
        "colab_type": "text"
      },
      "source": [
        "<a href=\"https://colab.research.google.com/github/valentinajuarez0000/Aviatrix/blob/master/Instructor_Assistant_Data_Science.ipynb\" target=\"_parent\"><img src=\"https://colab.research.google.com/assets/colab-badge.svg\" alt=\"Open In Colab\"/></a>"
      ]
    },
    {
      "cell_type": "markdown",
      "metadata": {
        "id": "IDWN8Ob-x_G_"
      },
      "source": [
        "ℹ️ INSTRUCTOR ASSISTANT APPLICATION PERFORMANCE TASK ℹ️  \n",
        "\n",
        "One of your scholars is struggling with a project and has dropped by office hours for support. An imaginary conversation is commented out below alongside their code. Your task is to fix the code and include comments explaining how you would approach a conversation with the scholar. \n",
        "\n",
        "ℹ️ DIRECTIONS ℹ️ <br> \n",
        "1) Fork this Repl.it and name it 'firstName lastName - IA Performance Task'\n",
        "2) Review and fix the code so that it functions as described \n",
        "3) Add in comments that illustrate what you would say and do to support this scholar. \n",
        "4) Return to the application in Airtable to copy and paste the link to your forked repl.it\n",
        "\n",
        "ℹ️ SCHOLAR SCRIPT AND CODE BELOW ️️️ℹ️ <br> \n",
        "SCHOLAR: \"💬 Hi! Can you help me with my code? I'm trying to make a tip calculator function. My tip calculator would work like so: when a user puts in the total of their bill nonTipTotal (for example $10), it'll output how much I should pay in total: with the tip (15%) AND the bill. My code isn't running and I've seem to have made some mistakes-- can you help me?\" "
      ]
    },
    {
      "cell_type": "code",
      "metadata": {
        "colab": {
          "base_uri": "https://localhost:8080/",
          "height": 130
        },
        "id": "_WYl2a1eu2g8",
        "outputId": "333d0172-2a75-4384-d3fe-4301138b6334"
      },
      "source": [
        "num nonTipTotal = 10\n",
        "totalWithTip = nonTipTotal * 15; \n",
        "print(f'You should pay a total of {totalWithTip}, which includes the bill and your tip.')"
      ],
      "execution_count": null,
      "outputs": [
        {
          "output_type": "error",
          "ename": "SyntaxError",
          "evalue": "ignored",
          "traceback": [
            "\u001b[0;36m  File \u001b[0;32m\"<ipython-input-12-f1bb8df3eeac>\"\u001b[0;36m, line \u001b[0;32m1\u001b[0m\n\u001b[0;31m    num nonTipTotal = 10\u001b[0m\n\u001b[0m                  ^\u001b[0m\n\u001b[0;31mSyntaxError\u001b[0m\u001b[0;31m:\u001b[0m invalid syntax\n"
          ]
        }
      ]
    },
    {
      "cell_type": "markdown",
      "source": [
        "🚨 TYPE IN WHAT YOU WOULD SAY AND DO TO SUPPORT THIS SCHOLAR BELOW 🚨 \n",
        "\n",
        "EXAMPLE (Feel free to delete this portion, we are providing it for you just as an example) 👋 Hi Scholar! Thanks for stopping by office hours. I'm excited to help. Let's take a look at what you have. First, I would...."
      ],
      "metadata": {
        "id": "JIQNU-YapSyB"
      }
    }
  ]
}